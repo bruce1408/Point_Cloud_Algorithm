{
 "cells": [
  {
   "cell_type": "code",
   "execution_count": 1,
   "metadata": {},
   "outputs": [],
   "source": [
    "import numpy as np"
   ]
  },
  {
   "cell_type": "code",
   "execution_count": 2,
   "metadata": {},
   "outputs": [
    {
     "name": "stdout",
     "output_type": "stream",
     "text": [
      "(113110, 4)\n"
     ]
    }
   ],
   "source": [
    "pointcloud = np.fromfile(str(\"/Users/bruce/PycharmProjects/3D-Detection-Tracking-Viewer/data/kitti_detection/kitti_mini/velodyne/000003.bin\"), dtype=np.float32, count=-1).reshape([-1, 4])\n",
    "\n",
    "print(pointcloud.shape)\n",
    "x = pointcloud[:, 0]  # x position of point\n",
    "y = pointcloud[:, 1]  # y position of point\n",
    "z = pointcloud[:, 2]  # z position of point\n",
    "r = pointcloud[:, 3]  # reflectance value of point\n",
    "d = np.sqrt(x ** 2 + y ** 2)  # Map Distance from sensor\n",
    "\n"
   ]
  },
  {
   "cell_type": "code",
   "execution_count": 5,
   "metadata": {},
   "outputs": [
    {
     "data": {
      "text/plain": [
       "array([68.127, 68.74 , 69.39 , ...,  3.74 ,  3.74 ,  3.763], dtype=float32)"
      ]
     },
     "execution_count": 5,
     "metadata": {},
     "output_type": "execute_result"
    }
   ],
   "source": [
    "x"
   ]
  },
  {
   "cell_type": "code",
   "execution_count": 4,
   "metadata": {},
   "outputs": [
    {
     "name": "stdout",
     "output_type": "stream",
     "text": [
      "(18911, 4)\n"
     ]
    }
   ],
   "source": [
    "reducepath =\"/Users/bruce/PycharmProjects/3D-Detection-Tracking-Viewer/data/kitti_detection/kitti_mini/velodyne_reduced/000003.bin\"\n",
    "pointcloud1 = np.fromfile(str(reducepath), dtype=np.float32, count=-1).reshape([-1, 4])\n",
    "print(pointcloud1.shape)"
   ]
  },
  {
   "cell_type": "code",
   "execution_count": 6,
   "metadata": {},
   "outputs": [
    {
     "data": {
      "text/plain": [
       "array([68.127,  0.145,  2.513,  0.   ], dtype=float32)"
      ]
     },
     "execution_count": 6,
     "metadata": {},
     "output_type": "execute_result"
    }
   ],
   "source": [
    "pointcloud[0]"
   ]
  },
  {
   "cell_type": "code",
   "execution_count": 8,
   "metadata": {},
   "outputs": [
    {
     "ename": "ImportError",
     "evalue": "Could not import backend for traitsui.  Make sure you\n        have a suitable UI toolkit like PyQt/PySide or wxPython\n        installed.",
     "output_type": "error",
     "traceback": [
      "\u001b[0;31m---------------------------------------------------------------------------\u001b[0m",
      "\u001b[0;31mImportError\u001b[0m                               Traceback (most recent call last)",
      "Input \u001b[0;32mIn [8]\u001b[0m, in \u001b[0;36m<cell line: 20>\u001b[0;34m()\u001b[0m\n\u001b[1;32m     20\u001b[0m \u001b[38;5;28;01mif\u001b[39;00m  \u001b[38;5;18m__name__\u001b[39m \u001b[38;5;241m==\u001b[39m \u001b[38;5;124m'\u001b[39m\u001b[38;5;124m__main__\u001b[39m\u001b[38;5;124m'\u001b[39m:\n\u001b[1;32m     21\u001b[0m     points \u001b[38;5;241m=\u001b[39m np\u001b[38;5;241m.\u001b[39mfromfile(\u001b[38;5;124m'\u001b[39m\u001b[38;5;124m/Users/bruce/PycharmProjects/3D-Detection-Tracking-Viewer/data/kitti_detection/kitti_mini/velodyne/000000.bin\u001b[39m\u001b[38;5;124m'\u001b[39m, dtype\u001b[38;5;241m=\u001b[39mnp\u001b[38;5;241m.\u001b[39mfloat32)\u001b[38;5;241m.\u001b[39mreshape([\u001b[38;5;241m-\u001b[39m\u001b[38;5;241m1\u001b[39m, \u001b[38;5;241m4\u001b[39m])\n\u001b[0;32m---> 22\u001b[0m     \u001b[43mviz_mayavi\u001b[49m\u001b[43m(\u001b[49m\u001b[43mpoints\u001b[49m\u001b[43m)\u001b[49m\n",
      "Input \u001b[0;32mIn [8]\u001b[0m, in \u001b[0;36mviz_mayavi\u001b[0;34m(points, vals)\u001b[0m\n\u001b[1;32m      8\u001b[0m y \u001b[38;5;241m=\u001b[39m points[:, \u001b[38;5;241m1\u001b[39m]  \u001b[38;5;66;03m# y position of point\u001b[39;00m\n\u001b[1;32m      9\u001b[0m z \u001b[38;5;241m=\u001b[39m points[:, \u001b[38;5;241m2\u001b[39m]  \u001b[38;5;66;03m# z position of point\u001b[39;00m\n\u001b[0;32m---> 10\u001b[0m fig \u001b[38;5;241m=\u001b[39m \u001b[43mmlab\u001b[49m\u001b[38;5;241;43m.\u001b[39;49m\u001b[43mfigure\u001b[49m\u001b[43m(\u001b[49m\u001b[43mbgcolor\u001b[49m\u001b[38;5;241;43m=\u001b[39;49m\u001b[43m(\u001b[49m\u001b[38;5;241;43m0\u001b[39;49m\u001b[43m,\u001b[49m\u001b[43m \u001b[49m\u001b[38;5;241;43m0\u001b[39;49m\u001b[43m,\u001b[49m\u001b[43m \u001b[49m\u001b[38;5;241;43m0\u001b[39;49m\u001b[43m)\u001b[49m\u001b[43m,\u001b[49m\u001b[43m \u001b[49m\u001b[43msize\u001b[49m\u001b[38;5;241;43m=\u001b[39;49m\u001b[43m(\u001b[49m\u001b[38;5;241;43m640\u001b[39;49m\u001b[43m,\u001b[49m\u001b[43m \u001b[49m\u001b[38;5;241;43m360\u001b[39;49m\u001b[43m)\u001b[49m\u001b[43m)\u001b[49m\n\u001b[1;32m     11\u001b[0m mlab\u001b[38;5;241m.\u001b[39mpoints3d(x, y, z,\n\u001b[1;32m     12\u001b[0m                       z,          \u001b[38;5;66;03m# Values used for Color\u001b[39;00m\n\u001b[1;32m     13\u001b[0m                       mode\u001b[38;5;241m=\u001b[39m\u001b[38;5;124m\"\u001b[39m\u001b[38;5;124mpoint\u001b[39m\u001b[38;5;124m\"\u001b[39m,\n\u001b[0;32m   (...)\u001b[0m\n\u001b[1;32m     16\u001b[0m                       figure\u001b[38;5;241m=\u001b[39mfig,\n\u001b[1;32m     17\u001b[0m                       )\n\u001b[1;32m     18\u001b[0m mlab\u001b[38;5;241m.\u001b[39mshow()\n",
      "File \u001b[0;32m~/anaconda3/envs/pytorch_new/lib/python3.8/site-packages/mayavi/tools/figure.py:64\u001b[0m, in \u001b[0;36mfigure\u001b[0;34m(figure, bgcolor, fgcolor, engine, size)\u001b[0m\n\u001b[1;32m     62\u001b[0m \u001b[38;5;28;01melse\u001b[39;00m:\n\u001b[1;32m     63\u001b[0m     \u001b[38;5;28;01mif\u001b[39;00m engine \u001b[38;5;129;01mis\u001b[39;00m \u001b[38;5;28;01mNone\u001b[39;00m:\n\u001b[0;32m---> 64\u001b[0m         engine \u001b[38;5;241m=\u001b[39m \u001b[43mget_engine\u001b[49m\u001b[43m(\u001b[49m\u001b[43m)\u001b[49m\n\u001b[1;32m     65\u001b[0m     \u001b[38;5;28;01mif\u001b[39;00m figure \u001b[38;5;129;01mis\u001b[39;00m \u001b[38;5;28;01mNone\u001b[39;00m:\n\u001b[1;32m     66\u001b[0m         name \u001b[38;5;241m=\u001b[39m \u001b[38;5;28mmax\u001b[39m(__scene_number_list) \u001b[38;5;241m+\u001b[39m \u001b[38;5;241m1\u001b[39m\n",
      "File \u001b[0;32m~/anaconda3/envs/pytorch_new/lib/python3.8/site-packages/mayavi/tools/engine_manager.py:94\u001b[0m, in \u001b[0;36mEngineManager.get_engine\u001b[0;34m(self)\u001b[0m\n\u001b[1;32m     91\u001b[0m     suitable \u001b[38;5;241m=\u001b[39m [e \u001b[38;5;28;01mfor\u001b[39;00m e \u001b[38;5;129;01min\u001b[39;00m engines\n\u001b[1;32m     92\u001b[0m                 \u001b[38;5;28;01mif\u001b[39;00m e\u001b[38;5;241m.\u001b[39m\u001b[38;5;18m__class__\u001b[39m\u001b[38;5;241m.\u001b[39m\u001b[38;5;18m__name__\u001b[39m \u001b[38;5;241m==\u001b[39m \u001b[38;5;124m'\u001b[39m\u001b[38;5;124mEngine\u001b[39m\u001b[38;5;124m'\u001b[39m]\n\u001b[1;32m     93\u001b[0m \u001b[38;5;28;01mif\u001b[39;00m \u001b[38;5;28mlen\u001b[39m(suitable) \u001b[38;5;241m==\u001b[39m \u001b[38;5;241m0\u001b[39m:\n\u001b[0;32m---> 94\u001b[0m     \u001b[38;5;28;01mreturn\u001b[39;00m \u001b[38;5;28;43mself\u001b[39;49m\u001b[38;5;241;43m.\u001b[39;49m\u001b[43mnew_engine\u001b[49m\u001b[43m(\u001b[49m\u001b[43m)\u001b[49m\n\u001b[1;32m     95\u001b[0m \u001b[38;5;28;01melse\u001b[39;00m:\n\u001b[1;32m     96\u001b[0m     \u001b[38;5;66;03m# Return the most engine add to the list most recently.\u001b[39;00m\n\u001b[1;32m     97\u001b[0m     \u001b[38;5;28mself\u001b[39m\u001b[38;5;241m.\u001b[39mcurrent_engine \u001b[38;5;241m=\u001b[39m suitable[\u001b[38;5;241m-\u001b[39m\u001b[38;5;241m1\u001b[39m]\n",
      "File \u001b[0;32m~/anaconda3/envs/pytorch_new/lib/python3.8/site-packages/mayavi/tools/engine_manager.py:139\u001b[0m, in \u001b[0;36mEngineManager.new_engine\u001b[0;34m(self)\u001b[0m\n\u001b[1;32m    135\u001b[0m \u001b[38;5;28;01mdef\u001b[39;00m \u001b[38;5;21mnew_engine\u001b[39m(\u001b[38;5;28mself\u001b[39m):\n\u001b[1;32m    136\u001b[0m     \u001b[38;5;124;03m\"\"\" Creates a new engine, envisage or not depending on the\u001b[39;00m\n\u001b[1;32m    137\u001b[0m \u001b[38;5;124;03m        options.\u001b[39;00m\n\u001b[1;32m    138\u001b[0m \u001b[38;5;124;03m    \"\"\"\u001b[39;00m\n\u001b[0;32m--> 139\u001b[0m     \u001b[43mcheck_backend\u001b[49m\u001b[43m(\u001b[49m\u001b[43m)\u001b[49m\n\u001b[1;32m    140\u001b[0m     \u001b[38;5;28;01mif\u001b[39;00m options\u001b[38;5;241m.\u001b[39mbackend \u001b[38;5;241m==\u001b[39m \u001b[38;5;124m'\u001b[39m\u001b[38;5;124menvisage\u001b[39m\u001b[38;5;124m'\u001b[39m:\n\u001b[1;32m    141\u001b[0m         \u001b[38;5;28;01mfrom\u001b[39;00m \u001b[38;5;21;01mmayavi\u001b[39;00m\u001b[38;5;21;01m.\u001b[39;00m\u001b[38;5;21;01mplugins\u001b[39;00m\u001b[38;5;21;01m.\u001b[39;00m\u001b[38;5;21;01mapp\u001b[39;00m \u001b[38;5;28;01mimport\u001b[39;00m Mayavi\n",
      "File \u001b[0;32m~/anaconda3/envs/pytorch_new/lib/python3.8/site-packages/mayavi/tools/engine_manager.py:42\u001b[0m, in \u001b[0;36mcheck_backend\u001b[0;34m()\u001b[0m\n\u001b[1;32m     37\u001b[0m \u001b[38;5;28;01mif\u001b[39;00m (options\u001b[38;5;241m.\u001b[39mbackend \u001b[38;5;241m!=\u001b[39m \u001b[38;5;124m'\u001b[39m\u001b[38;5;124mtest\u001b[39m\u001b[38;5;124m'\u001b[39m \u001b[38;5;129;01mand\u001b[39;00m \u001b[38;5;129;01mnot\u001b[39;00m options\u001b[38;5;241m.\u001b[39moffscreen) \u001b[38;5;129;01mand\u001b[39;00m \\\n\u001b[1;32m     38\u001b[0m    (ETSConfig\u001b[38;5;241m.\u001b[39mtoolkit \u001b[38;5;129;01min\u001b[39;00m (\u001b[38;5;124m'\u001b[39m\u001b[38;5;124mnull\u001b[39m\u001b[38;5;124m'\u001b[39m, \u001b[38;5;124m'\u001b[39m\u001b[38;5;124m'\u001b[39m) \u001b[38;5;129;01mand\u001b[39;00m env_toolkit \u001b[38;5;241m!=\u001b[39m \u001b[38;5;124m'\u001b[39m\u001b[38;5;124mnull\u001b[39m\u001b[38;5;124m'\u001b[39m):\n\u001b[1;32m     39\u001b[0m     msg \u001b[38;5;241m=\u001b[39m \u001b[38;5;124m'''\u001b[39m\u001b[38;5;124mCould not import backend for traitsui.  Make sure you\u001b[39m\n\u001b[1;32m     40\u001b[0m \u001b[38;5;124m    have a suitable UI toolkit like PyQt/PySide or wxPython\u001b[39m\n\u001b[1;32m     41\u001b[0m \u001b[38;5;124m    installed.\u001b[39m\u001b[38;5;124m'''\u001b[39m\n\u001b[0;32m---> 42\u001b[0m     \u001b[38;5;28;01mraise\u001b[39;00m \u001b[38;5;167;01mImportError\u001b[39;00m(msg)\n",
      "\u001b[0;31mImportError\u001b[0m: Could not import backend for traitsui.  Make sure you\n        have a suitable UI toolkit like PyQt/PySide or wxPython\n        installed."
     ]
    }
   ],
   "source": [
    "# -*- coding: utf-8 -*-\n",
    " \n",
    "from mayavi import mlab\n",
    "import numpy as np\n",
    "\n",
    "def viz_mayavi(points, vals=\"distance\"):\n",
    "    x = points[:, 0]  # x position of point\n",
    "    y = points[:, 1]  # y position of point\n",
    "    z = points[:, 2]  # z position of point\n",
    "    fig = mlab.figure(bgcolor=(0, 0, 0), size=(640, 360))\n",
    "    mlab.points3d(x, y, z,\n",
    "                          z,          # Values used for Color\n",
    "                          mode=\"point\",\n",
    "                          colormap='spectral', # 'bone', 'copper', 'gnuplot'\n",
    "                          # color=(0, 1, 0),   # Used a fixed (r,g,b) instead\n",
    "                          figure=fig,\n",
    "                          )\n",
    "    mlab.show()\n",
    " \n",
    "if  __name__ == '__main__':\n",
    "    points = np.fromfile('/Users/bruce/PycharmProjects/3D-Detection-Tracking-Viewer/data/kitti_detection/kitti_mini/velodyne/000000.bin', dtype=np.float32).reshape([-1, 4])\n",
    "    viz_mayavi(points)\n"
   ]
  },
  {
   "cell_type": "code",
   "execution_count": null,
   "metadata": {},
   "outputs": [],
   "source": []
  }
 ],
 "metadata": {
  "kernelspec": {
   "display_name": "pytorch_new",
   "language": "python",
   "name": "pytorch_new"
  },
  "language_info": {
   "codemirror_mode": {
    "name": "ipython",
    "version": 3
   },
   "file_extension": ".py",
   "mimetype": "text/x-python",
   "name": "python",
   "nbconvert_exporter": "python",
   "pygments_lexer": "ipython3",
   "version": "3.8.13"
  }
 },
 "nbformat": 4,
 "nbformat_minor": 2
}
